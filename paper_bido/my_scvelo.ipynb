{
 "cells": [
  {
   "cell_type": "code",
   "execution_count": null,
   "id": "e4ab604b",
   "metadata": {},
   "outputs": [],
   "source": [
    "import scvelo as scv\n",
    "import pandas\n",
    "import os\n",
    "import loompy\n",
    "import multiprocessing"
   ]
  },
  {
   "cell_type": "code",
   "execution_count": null,
   "id": "31400568",
   "metadata": {},
   "outputs": [],
   "source": [
    "filename = '/home/edoardo/sc_il10/loom/all.loom'\n",
    "adata = scv.read(filename, cache=True)\n",
    "adata.var_names_make_unique()\n",
    "adata.obs_names"
   ]
  },
  {
   "cell_type": "code",
   "execution_count": null,
   "id": "9c50ffcf",
   "metadata": {},
   "outputs": [],
   "source": [
    "df = pandas.read_csv('/home/edoardo/sc_il10/velo_meta/META_all.csv')\n",
    "df"
   ]
  },
  {
   "cell_type": "code",
   "execution_count": null,
   "id": "6f024a6a",
   "metadata": {},
   "outputs": [],
   "source": [
    "df['Label_Cluster'].value_counts()"
   ]
  },
  {
   "cell_type": "code",
   "execution_count": null,
   "id": "383019b4",
   "metadata": {},
   "outputs": [],
   "source": [
    "#adata.obs['seurat'] = 'filtered'\n",
    "#adata.obs['cell_name'] = 'tobeassigned'\n",
    "#for i in range(len(adata.obs.index)):\n",
    "#    adata.obs['cell_name'][i] = adata.obs.index[i].replace('snca_il10:','sncail10_').replace('x','')\n",
    "#adata.obs"
   ]
  },
  {
   "cell_type": "code",
   "execution_count": null,
   "id": "ebc1b51f",
   "metadata": {},
   "outputs": [],
   "source": [
    "adata.obs['seurat'] = 'filtered'\n",
    "adata.obs['cell_name'] = 'tobeassigned'\n",
    "for i in range(len(adata.obs.index)):\n",
    "    adata.obs['cell_name'][i] = adata.obs.index[i].replace('snca_il10:','sncail10_').replace('x','').replace('WT:','WT_').replace('snca:','snca_').replace('IL10:','IL10_')\n",
    "adata.obs"
   ]
  },
  {
   "cell_type": "code",
   "execution_count": null,
   "id": "5973f8c9",
   "metadata": {},
   "outputs": [],
   "source": [
    "# need to speed up this one\n",
    "for j in range(len(adata.obs['cell_name'])):\n",
    "    for i in range(len(df['Barcode'])):\n",
    "        if df['Barcode'][i] == adata.obs['cell_name'][j]:\n",
    "            adata.obs['seurat'][j] = df['Label_Cluster'][i]\n",
    "            break\n",
    "adata.obs"
   ]
  },
  {
   "cell_type": "code",
   "execution_count": null,
   "id": "67ce88d9",
   "metadata": {},
   "outputs": [],
   "source": [
    "adata.obs['seurat'].value_counts()"
   ]
  },
  {
   "cell_type": "code",
   "execution_count": null,
   "id": "ec0b47d2",
   "metadata": {},
   "outputs": [],
   "source": [
    "adata_filt = adata[adata.obs['seurat'] != 'filtered',:]"
   ]
  },
  {
   "cell_type": "code",
   "execution_count": null,
   "id": "f6f487e9",
   "metadata": {},
   "outputs": [],
   "source": [
    "adata_filt.obs"
   ]
  },
  {
   "cell_type": "code",
   "execution_count": null,
   "id": "f7b11f66",
   "metadata": {},
   "outputs": [],
   "source": [
    "#adata_filt_seurat.obs['clusters'] = adata_filt_seurat.obs['seurat']\n",
    "#scv.pl.proportions(adata_filt_seurat)"
   ]
  },
  {
   "cell_type": "code",
   "execution_count": null,
   "id": "9cab5183",
   "metadata": {},
   "outputs": [],
   "source": [
    "scv.pp.filter_and_normalize(adata_filt, n_top_genes=4000, enforce=True)\n",
    "scv.pp.moments(adata_filt, n_pcs=30, n_neighbors=30)"
   ]
  },
  {
   "cell_type": "code",
   "execution_count": null,
   "id": "ae713ec1",
   "metadata": {},
   "outputs": [],
   "source": [
    "adata_filt.obs"
   ]
  },
  {
   "cell_type": "code",
   "execution_count": null,
   "id": "e4a478e0",
   "metadata": {},
   "outputs": [],
   "source": [
    "scv.tl.velocity(adata_filt)"
   ]
  },
  {
   "cell_type": "code",
   "execution_count": null,
   "id": "83a3f75d",
   "metadata": {
    "scrolled": true
   },
   "outputs": [],
   "source": [
    "scv.tl.velocity_graph(adata_filt, n_jobs=20)"
   ]
  },
  {
   "cell_type": "code",
   "execution_count": null,
   "id": "df3c95e1",
   "metadata": {},
   "outputs": [],
   "source": [
    "scv.tl.umap(adata_filt)"
   ]
  },
  {
   "cell_type": "code",
   "execution_count": null,
   "id": "f736bf3f",
   "metadata": {},
   "outputs": [],
   "source": [
    "palette = [\"#5A5156\",\"#E4E1E3\",\"#F6222E\",\"#FE00FA\",\"#16FF32\",\"#3283FE\",\"#FEAF16\",\"#B00068\",\"#1CFFCE\",\"#90AD1C\",\"#2ED9FF\",\"#DEA0FD\",\"#AA0DFE\",\"#F8A19F\"]\n",
    "scv.pl.umap(adata_filt, color=['seurat'], legend_loc='right_margin', palette=palette)"
   ]
  },
  {
   "cell_type": "code",
   "execution_count": null,
   "id": "f824152f",
   "metadata": {},
   "outputs": [],
   "source": [
    "scv.pl.velocity_embedding_stream(adata_filt, basis='umap', color=['seurat'], palette = palette, dpi=100, legend_loc='right_margin')"
   ]
  },
  {
   "cell_type": "code",
   "execution_count": null,
   "id": "5996b64c",
   "metadata": {},
   "outputs": [],
   "source": [
    "scv.tl.velocity_confidence(adata_filt)\n",
    "scv.pl.scatter(adata_filt, c='velocity_length', cmap='coolwarm', perc=[5, 95])"
   ]
  },
  {
   "cell_type": "code",
   "execution_count": null,
   "id": "3f428dc5",
   "metadata": {},
   "outputs": [],
   "source": [
    "adata_filt.obsm['X_umap']"
   ]
  },
  {
   "cell_type": "code",
   "execution_count": null,
   "id": "082e6e96",
   "metadata": {},
   "outputs": [],
   "source": [
    "adata_filt_seurat = adata_filt.copy()"
   ]
  },
  {
   "cell_type": "code",
   "execution_count": null,
   "id": "5d85211e",
   "metadata": {},
   "outputs": [],
   "source": [
    "ucoord = scv.load('/home/edoardo/sc_il10/velo_meta/UMAP_all.csv')\n",
    "#ucoord.index = [ x.rstrip('-1_2') for x in ucoord.index ]\n",
    "ucoord = ucoord.reindex(index=adata_filt_seurat.obs['cell_name'].values)\n",
    "ucoord = ucoord.to_numpy()\n",
    "#for i in ucoord.index:\n",
    "#    ucoord['Unnamed: 0'][i] = ucoord['Unnamed: 0'][i].rstrip('-1_2')\n",
    "#ucoord.index = ucoord['Unnamed: 0'].values\n",
    "#ucoord = ucoord.reindex(index=adata_filt_seurat.obs['cell_name'].index)\n",
    "#ucoord = ucoord.drop('Unnamed: 0', axis='columns')"
   ]
  },
  {
   "cell_type": "code",
   "execution_count": null,
   "id": "3c9a3962",
   "metadata": {},
   "outputs": [],
   "source": [
    "adata_filt_seurat.obsm['X_umap'] = ucoord\n",
    "adata_filt_seurat.obsm['X_umap']"
   ]
  },
  {
   "cell_type": "code",
   "execution_count": null,
   "id": "35847bb7",
   "metadata": {},
   "outputs": [],
   "source": [
    "palette = [\"#424242\", \"#3B79DD\", \"#AEE977\", \"#6DCD17\", \"#284D06\", \"#FC5D89\", \"#FC6A0F\", \"#75431E\", \"#FA0007\", \"#F6E518\", \"#B086FF\", \"#279423\", \"#124373\", \"#E7E6E4\"]\n",
    "scv.pl.umap(adata_filt_seurat, color=['seurat'], palette = palette, legend_loc='right_margin')"
   ]
  },
  {
   "cell_type": "code",
   "execution_count": null,
   "id": "0ccb2014",
   "metadata": {},
   "outputs": [],
   "source": [
    "palette = [\"#424242\", \"#3B79DD\", \"#AEE977\", \"#6DCD17\", \"#284D06\", \"#FC5D89\", \"#FC6A0F\", \"#75431E\", \"#FA0007\", \"#F6E518\", \"#B086FF\", \"#279423\", \"#124373\", \"#E7E6E4\"]\n",
    "scv.tl.velocity(adata_filt_seurat, n_jobs=20)\n",
    "scv.tl.velocity_graph(adata_filt_seurat, n_jobs=20)\n",
    "scv.pl.velocity_embedding_stream(adata_filt_seurat, basis='umap', color=['seurat'], palette = palette)\n",
    "#save='snca_IL10_velo_5.svg'\n"
   ]
  },
  {
   "cell_type": "code",
   "execution_count": null,
   "id": "f6d4f320",
   "metadata": {},
   "outputs": [],
   "source": [
    "for i in range(adata.n_obs):\n",
    "    print(i)"
   ]
  },
  {
   "cell_type": "code",
   "execution_count": null,
   "id": "2535ceff",
   "metadata": {},
   "outputs": [],
   "source": [
    "adata_filt_seurat"
   ]
  },
  {
   "cell_type": "code",
   "execution_count": null,
   "id": "383672b4",
   "metadata": {},
   "outputs": [],
   "source": [
    "g2m_g = pandas.read_csv('/home/edoardo/prova_v/g2m.genes.csv')['g2m.genes']\n",
    "s_g = pandas.read_csv('/home/edoardo/prova_v/s.genes.csv')['s.gene']\n",
    "scv.tl.score_genes_cell_cycle(adata_filt_seurat, g2m_genes= g2m_g, s_genes= s_g)\n",
    "scv.pl.scatter(adata_filt_seurat, color_gradients=['S_score', 'G2M_score'], smooth=True, perc=[5, 95])"
   ]
  },
  {
   "cell_type": "code",
   "execution_count": null,
   "id": "34371979",
   "metadata": {},
   "outputs": [],
   "source": [
    "scv.tl.rank_velocity_genes(adata_filt_seurat, groupby='seurat', min_corr=.3)\n",
    "df = scv.DataFrame(adata_filt_seurat.uns['rank_velocity_genes']['names'])\n",
    "df.head()\n",
    "#df.to_csv(\"/home/edoardo/sc_il10/WT_velocity_genes.csv\")"
   ]
  },
  {
   "cell_type": "code",
   "execution_count": null,
   "id": "a3ac7622",
   "metadata": {},
   "outputs": [],
   "source": [
    "scv.tl.recover_dynamics(adata_filt_seurat, n_jobs=20)"
   ]
  },
  {
   "cell_type": "code",
   "execution_count": null,
   "id": "ac4bb368",
   "metadata": {},
   "outputs": [],
   "source": [
    "scv.tl.velocity_graph(adata_filt_seurat, n_jobs=20)"
   ]
  },
  {
   "cell_type": "code",
   "execution_count": null,
   "id": "17ef8fb4",
   "metadata": {},
   "outputs": [],
   "source": [
    "scv.tl.latent_time(adata_filt_seurat)\n",
    "scv.pl.scatter(adata_filt_seurat, color='latent_time', color_map='gnuplot', size=80)"
   ]
  },
  {
   "cell_type": "code",
   "execution_count": null,
   "id": "eae54b2d",
   "metadata": {},
   "outputs": [],
   "source": [
    "top_genes = adata_filt_seurat.var['fit_likelihood'].sort_values(ascending=False).index[:300]\n",
    "scv.pl.heatmap(adata_filt_seurat, var_names=top_genes,sort=True,\n",
    "               sortby='latent_time', col_color='seurat', col_cluster=True,\n",
    "               n_convolve=100, palette=palette, standard_scale=[0, 1])"
   ]
  },
  {
   "cell_type": "code",
   "execution_count": null,
   "id": "ce23205d",
   "metadata": {},
   "outputs": [],
   "source": [
    "top_genes = adata_filt_seurat.var['fit_likelihood'].sort_values(ascending=False).index[:300]\n",
    "top_genes"
   ]
  },
  {
   "cell_type": "code",
   "execution_count": null,
   "id": "49aaefe9",
   "metadata": {},
   "outputs": [],
   "source": [
    "top_genes = adata_filt_seurat.var['fit_likelihood'].sort_values(ascending=False).index\n",
    "scv.pl.scatter(adata_filt_seurat, basis=top_genes[:15], \n",
    "               ncols=5, frameon=False, color=['seurat'],\n",
    "              palette=palette)"
   ]
  },
  {
   "cell_type": "code",
   "execution_count": null,
   "id": "1f4d6914",
   "metadata": {},
   "outputs": [],
   "source": [
    "scv.tl.rank_dynamical_genes(adata_filt_seurat, groupby='seurat')\n",
    "df = scv.get_df(adata_filt_seurat, 'rank_dynamical_genes/names')\n",
    "df.head(20)"
   ]
  },
  {
   "cell_type": "code",
   "execution_count": null,
   "id": "f50f2434",
   "metadata": {},
   "outputs": [],
   "source": [
    "#df.to_csv(\"/home/edoardo/prova_v/loom/_genes_in_velo.csv\",index=False)"
   ]
  },
  {
   "cell_type": "code",
   "execution_count": null,
   "id": "04018590",
   "metadata": {},
   "outputs": [],
   "source": [
    "scv.tl.velocity_confidence(adata_filt_seurat)\n",
    "keys = 'velocity_length', 'velocity_confidence'\n",
    "scv.pl.scatter(adata_filt_seurat, c=keys, cmap='coolwarm', perc=[5, 95], normalize_data=True,\n",
    "              rescale_color=[0, 100], save='SNCA_IL10_velocity.svg')\n",
    "#save='MUT_velocity.svg'"
   ]
  },
  {
   "cell_type": "code",
   "execution_count": null,
   "id": "14f39b85",
   "metadata": {},
   "outputs": [],
   "source": [
    "df = adata_filt_seurat.obs.groupby('seurat')[keys].mean().T\n",
    "df.style.background_gradient(cmap='coolwarm', axis=1)\n",
    "df.to_csv(\"/home/edoardo/sc_il10/SNCA_IL10_velocity.csv\",index=False)"
   ]
  },
  {
   "cell_type": "code",
   "execution_count": null,
   "id": "68c058d3",
   "metadata": {},
   "outputs": [],
   "source": [
    "scv.pl.velocity_graph(adata_filt_seurat, threshold=.1)"
   ]
  },
  {
   "cell_type": "code",
   "execution_count": null,
   "id": "9202d4f3",
   "metadata": {},
   "outputs": [],
   "source": [
    "x, y = scv.utils.get_cell_transitions(adata_filt_seurat, basis='umap', starting_cell=70)\n",
    "ax = scv.pl.velocity_graph(adata_filt_seurat, c='lightgrey', edge_width=.05, show=False)\n",
    "ax = scv.pl.scatter(adata_filt_seurat, x=x, y=y, s=120, c='ascending', cmap='gnuplot', ax=ax)"
   ]
  },
  {
   "cell_type": "code",
   "execution_count": null,
   "id": "646dc07f",
   "metadata": {},
   "outputs": [],
   "source": [
    "scv.tl.velocity_pseudotime(adata_filt_seurat)\n",
    "scv.pl.scatter(adata_filt_seurat, color='velocity_pseudotime', cmap='gnuplot', save='WT_pseudo.svg')\n",
    "#save='all_mut_velo_corrected.svg'"
   ]
  },
  {
   "cell_type": "code",
   "execution_count": null,
   "id": "2a034a18",
   "metadata": {},
   "outputs": [],
   "source": [
    "# PAGA requires to install igraph, if not done yet.\n",
    "#!pip install python-igraph --upgrade --quiet"
   ]
  },
  {
   "cell_type": "code",
   "execution_count": null,
   "id": "36388555",
   "metadata": {},
   "outputs": [],
   "source": [
    "# this is needed due to a current bug - bugfix is coming soon.\n",
    "adata_filt_seurat.uns['neighbors']['distances'] = adata_filt_seurat.obsp['distances']\n",
    "adata_filt_seurat.uns['neighbors']['connectivities'] = adata_filt_seurat.obsp['connectivities']\n",
    "\n",
    "scv.tl.paga(adata_filt_seurat, groups='seurat')\n",
    "df = scv.get_df(adata_filt_seurat, 'paga/transitions_confidence', precision=2).T\n",
    "df.style.background_gradient(cmap='Blues').format('{:.2g}')"
   ]
  },
  {
   "cell_type": "code",
   "execution_count": null,
   "id": "3b8e6ad2",
   "metadata": {},
   "outputs": [],
   "source": [
    "df.to_csv(\"/home/edoardo/prova_v/loom/PAGA_snca.csv\",index=False)"
   ]
  },
  {
   "cell_type": "code",
   "execution_count": null,
   "id": "c28e3313",
   "metadata": {},
   "outputs": [],
   "source": [
    "scv.pl.paga(adata_filt_seurat, basis='umap', size=50, alpha=.1,\n",
    "            min_edge_width=0.1, node_size_scale=0.5, threshold=.30,\n",
    "           save = 'PAGA_snca.svg')\n",
    "#save = '/home/edoardo/prova_v/figures/PAGA_mut_filt.svg'"
   ]
  },
  {
   "cell_type": "code",
   "execution_count": null,
   "id": "6c78c158",
   "metadata": {},
   "outputs": [],
   "source": [
    "os.chdir(\"/home/edoardo/sc_il10\")"
   ]
  },
  {
   "cell_type": "code",
   "execution_count": null,
   "id": "01be956e",
   "metadata": {},
   "outputs": [],
   "source": [
    "files = ['/home/edoardo/sc_il10/loom/IL10.loom', '/home/edoardo/sc_il10/loom/snca_il10.loom', '/home/edoardo/sc_il10/loom/snca.loom', '/home/edoardo/sc_il10/loom/WT.loom']\n",
    "#filename = \"/home/edoardo/sc_il10/loom/all.loom\"\n",
    "loompy.combine(files,  output_file= \"/home/edoardo/sc_il10/loom/all\", )"
   ]
  }
 ],
 "metadata": {
  "kernelspec": {
   "display_name": "Python 3 (ipykernel)",
   "language": "python",
   "name": "python3"
  },
  "language_info": {
   "codemirror_mode": {
    "name": "ipython",
    "version": 3
   },
   "file_extension": ".py",
   "mimetype": "text/x-python",
   "name": "python",
   "nbconvert_exporter": "python",
   "pygments_lexer": "ipython3",
   "version": "3.6.13"
  },
  "vscode": {
   "interpreter": {
    "hash": "828c58a5b5947bacb50892d0b968d436e6a6f4c0b17c09de96958421694bad64"
   }
  }
 },
 "nbformat": 4,
 "nbformat_minor": 5
}
